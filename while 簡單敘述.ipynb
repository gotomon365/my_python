{
 "cells": [
  {
   "cell_type": "markdown",
   "metadata": {},
   "source": [
    "# Python 重複結構\n",
    "## while\n",
    "首先我們先認識重複結構的結構概念<br>\n",
    "一個重複結構有以下概念：<br>\n",
    "1. 初始值\n",
    "2. 條件式\n",
    "3. 代碼(要操作的代碼)\n",
    "4. 更新值\n",
    "我們用下方的程式碼做說明"
   ]
  },
  {
   "cell_type": "code",
   "execution_count": null,
   "metadata": {},
   "outputs": [],
   "source": [
    "i = 1 # 1.初始值\n",
    "while i <= 10: # 2.條件，只要 True 就執行下方區塊\n",
    "    print(i) # 3.代碼，這裡只有一個\n",
    "    i = i + 1 # 4.更新"
   ]
  },
  {
   "cell_type": "markdown",
   "metadata": {},
   "source": [
    "要特別小心迴圈的更新值<br>\n",
    "很多時候忘了加上更新值，會變成無窮迴圈<br>\n",
    "因為條件只要成立了，就永遠不會改變"
   ]
  },
  {
   "cell_type": "code",
   "execution_count": null,
   "metadata": {},
   "outputs": [],
   "source": [
    "# 沒有更新值的 while 迴圈\n",
    "i = 1 # 1.初始值\n",
    "while i <= 10: # 2.條件，只要 True 就執行下方區塊\n",
    "    print(i) # 3.代碼，這裡只有一個"
   ]
  },
  {
   "cell_type": "markdown",
   "metadata": {},
   "source": [
    "**使用上一定要特別小心**"
   ]
  },
  {
   "cell_type": "code",
   "execution_count": null,
   "metadata": {},
   "outputs": [],
   "source": []
  }
 ],
 "metadata": {
  "kernelspec": {
   "display_name": "Python 3",
   "language": "python",
   "name": "python3"
  },
  "language_info": {
   "codemirror_mode": {
    "name": "ipython",
    "version": 3
   },
   "file_extension": ".py",
   "mimetype": "text/x-python",
   "name": "python",
   "nbconvert_exporter": "python",
   "pygments_lexer": "ipython3",
   "version": "3.8.3"
  }
 },
 "nbformat": 4,
 "nbformat_minor": 4
}

{
 "cells": [
  {
   "cell_type": "markdown",
   "metadata": {},
   "source": [
    "# 碎形與海龜繪圖\n",
    "![](https://media.giphy.com/media/l4FGEj3ORYD3pt67K/giphy.gif)\n",
    "![](https://raw.githubusercontent.com/gotomon365/my_python/master/%E6%B5%B7%E9%BE%9C%E7%B9%AA%E5%9C%96/Screenshot%20at%202020-09-14%2021-13-54.png)"
   ]
  },
  {
   "cell_type": "code",
   "execution_count": 1,
   "metadata": {},
   "outputs": [],
   "source": [
    "# import 海龜繪圖，使用縮寫tu\n",
    "import turtle as tu"
   ]
  },
  {
   "cell_type": "code",
   "execution_count": null,
   "metadata": {},
   "outputs": [],
   "source": [
    "# 設定初始位置\n",
    "def startPosition():\n",
    "    tu.penup()\n",
    "    tu.goto(-100, 100)\n",
    "    tu.pendown()"
   ]
  },
  {
   "cell_type": "markdown",
   "metadata": {},
   "source": [
    "畫邊的時候要別注意<br>\n",
    "最最最基本的要畫一條邊就是`tu.forward(d)`<br>\n",
    "先想好第一個狀態跟第二個狀態"
   ]
  },
  {
   "cell_type": "code",
   "execution_count": null,
   "metadata": {},
   "outputs": [],
   "source": [
    "# 畫一條邊\n",
    "def drawIt(n, d):\n",
    "    if n == 1:\n",
    "        tu.forward(d)\n",
    "    else:\n",
    "        drawIt(n-1, d / 3)\n",
    "        tu.left(60)\n",
    "        drawIt(n-1, d / 3)\n",
    "        tu.right(120)\n",
    "        drawIt(n-1, d / 3)\n",
    "        tu.left(60)\n",
    "        drawIt(n-1, d / 3)"
   ]
  },
  {
   "cell_type": "code",
   "execution_count": null,
   "metadata": {},
   "outputs": [],
   "source": [
    "def main():\n",
    "    # 到初始位置\n",
    "    startPosition()\n",
    "    \n",
    "    # 接收你要畫的圖案複雜度，邊長\n",
    "    n = int(input('size:'))\n",
    "    d = int(input('length:'))\n",
    "    \n",
    "    # 畫邊，然後旋轉畫成一個封閉圖形\n",
    "    for _ in range(3):\n",
    "        drawIt(n, d)\n",
    "        tu.right(120)\n",
    "    \n",
    "    tu.done()"
   ]
  },
  {
   "cell_type": "code",
   "execution_count": 2,
   "metadata": {},
   "outputs": [],
   "source": [
    "if __name__ == '__main__':\n",
    "    main()"
   ]
  }
 ],
 "metadata": {
  "kernelspec": {
   "display_name": "Python 3",
   "language": "python",
   "name": "python3"
  },
  "language_info": {
   "codemirror_mode": {
    "name": "ipython",
    "version": 3
   },
   "file_extension": ".py",
   "mimetype": "text/x-python",
   "name": "python",
   "nbconvert_exporter": "python",
   "pygments_lexer": "ipython3",
   "version": "3.8.5"
  }
 },
 "nbformat": 4,
 "nbformat_minor": 4
}
